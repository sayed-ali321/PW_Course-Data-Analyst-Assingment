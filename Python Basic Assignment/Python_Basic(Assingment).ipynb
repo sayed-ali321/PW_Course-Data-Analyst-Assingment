{
  "nbformat": 4,
  "nbformat_minor": 0,
  "metadata": {
    "colab": {
      "provenance": []
    },
    "kernelspec": {
      "name": "python3",
      "display_name": "Python 3"
    },
    "language_info": {
      "name": "python"
    }
  },
  "cells": [
    {
      "cell_type": "markdown",
      "source": [
        "# Python Basic Question"
      ],
      "metadata": {
        "id": "Ql2SamIkb21W"
      }
    },
    {
      "cell_type": "markdown",
      "source": [
        "1. What is Python, and why is it popular?\n",
        "  - Python is a programming language that is easy to understand and write making it a popular choice among developers and programmers.\n",
        "  - It is compitable with various progrgamming paradigms, such as procedural, object-oriented and funcional programming.\n",
        "  - Python has a large and active community of developers on extensive standard libarary and thiird party packages of various domains."
      ],
      "metadata": {
        "id": "_4mb_Bg0Un_R"
      }
    },
    {
      "cell_type": "markdown",
      "source": [
        "2.  What is an interpreter in Python?\n",
        "  - A python interpreter is a program that reads and executes python code. That means that the interpreter reads python code analyzes it, and executes it directly."
      ],
      "metadata": {
        "id": "fwtIW_aPV2d4"
      }
    },
    {
      "cell_type": "markdown",
      "source": [
        "3. What are pre-defined keywords in Python?\n",
        "  - Keywords are reserved words in python that have special meanings and connect be used as identifires like (variables name, function names etc.)"
      ],
      "metadata": {
        "id": "gvVUW9iDWnj4"
      }
    },
    {
      "cell_type": "markdown",
      "source": [
        "4. Can keywords be used as variable names?\n",
        "  - No"
      ],
      "metadata": {
        "id": "DXmsONztXJ_l"
      }
    },
    {
      "cell_type": "markdown",
      "source": [
        "5.  What is mutability in Python?\n",
        "  - Mutable is when something is changeable or has the ability to change.Python mutable is the ability of objects to change their values."
      ],
      "metadata": {
        "id": "7PPcjijwXWfs"
      }
    },
    {
      "cell_type": "markdown",
      "source": [
        "6. Why are lists mutable, but tuples are immutable?\n",
        "  - Tuples and lists are the same in every way except two,Tuples use parentheses instead of square brackets, and the items in tuples cannot be modified but the items in lists can be modified . And we often call lists mutable meaning they can be changed and tuples immutable meaning they cannot be changed."
      ],
      "metadata": {
        "id": "tUaVVM0GYC0c"
      }
    },
    {
      "cell_type": "markdown",
      "source": [
        "7. What is the difference between “==” and “is” operators in Python?\n",
        "  - In Python, the == operator compares the values of two objects, while the is operator compares whether two variables point to the same object."
      ],
      "metadata": {
        "id": "eAEFSXkIZACu"
      }
    },
    {
      "cell_type": "markdown",
      "source": [
        "8. What are logical operators in Python?\n",
        "  - Logical operators in Python are symbols or words that combine multiple conditions into a single boolean expression. The three types of logical operators in Python (And,Or,NOT)."
      ],
      "metadata": {
        "id": "Qh2LN0bWZSV3"
      }
    },
    {
      "cell_type": "markdown",
      "source": [
        "9. What is type casting in Python?\n",
        "  - Type casting, also known as type conversion, is the process of changing a variable's data type to another in Python."
      ],
      "metadata": {
        "id": "U49LZI5sZm_l"
      }
    },
    {
      "cell_type": "markdown",
      "source": [
        "10. What is the difference between implicit and explicit type casting?\n",
        "  - Implicit type casting is automatic, while explicit type casting is manual."
      ],
      "metadata": {
        "id": "WFpgIHexZ478"
      }
    },
    {
      "cell_type": "markdown",
      "source": [
        "11. What is the purpose of conditional statements in Python?\n",
        "  - Conditional in python are used to execute code based on the evalution of one or more conditioinal."
      ],
      "metadata": {
        "id": "BfuY8VUxaGbL"
      }
    },
    {
      "cell_type": "markdown",
      "source": [
        "12. How does the elif statement work?\n",
        "  - The “elif” keyword in Python, stands for “else if”. It can be used in conditional statements to check for multiple conditions."
      ],
      "metadata": {
        "id": "SVrdQCxpako0"
      }
    },
    {
      "cell_type": "markdown",
      "source": [
        "13. What is the difference between for and while loops?\n",
        "  - For loops are used for iterating asure a sequence of elements, while loops are used for exacting code until a specified condition become."
      ],
      "metadata": {
        "id": "nXiVVsB1awdM"
      }
    },
    {
      "cell_type": "markdown",
      "source": [
        "14.  Describe a scenario where a while loop is more suitable than a for loop?\n",
        "  - Imagine a situation where you are reading data from a file until you reach the end. You don't know how many lines the file contains, so you need a loop that keeps reading line by line until there are no more lines to read. In such a case, a \"While Loop\" is more appropriate because the number of iterations needed isn't known in advance—it depends on the file's content."
      ],
      "metadata": {
        "id": "i4YPB6ChbNHh"
      }
    },
    {
      "cell_type": "markdown",
      "source": [
        "# Practical Questions"
      ],
      "metadata": {
        "id": "ZlyoxmTGbt80"
      }
    },
    {
      "cell_type": "code",
      "source": [
        "# 1. Write a Python program to print \"Hello, World!_?\n",
        "\n",
        "print(\"Hello, World!\")"
      ],
      "metadata": {
        "colab": {
          "base_uri": "https://localhost:8080/"
        },
        "id": "khPm227scYwg",
        "outputId": "75eced30-0172-464a-db2b-88dd45e36eea"
      },
      "execution_count": null,
      "outputs": [
        {
          "output_type": "stream",
          "name": "stdout",
          "text": [
            "Hello, World!\n"
          ]
        }
      ]
    },
    {
      "cell_type": "code",
      "source": [
        "# 2. Write a Python program that displays your name and age?\n",
        "\n",
        "name = \"Sayed Taha Ali\"\n",
        "age  = 25\n",
        "print(name,age)"
      ],
      "metadata": {
        "colab": {
          "base_uri": "https://localhost:8080/"
        },
        "id": "SD0vsBcJctNe",
        "outputId": "a69e6706-b212-4347-9537-821108d1513a"
      },
      "execution_count": null,
      "outputs": [
        {
          "output_type": "stream",
          "name": "stdout",
          "text": [
            "Sayed Taha Ali 25\n"
          ]
        }
      ]
    },
    {
      "cell_type": "code",
      "source": [
        "# 3. Write code to print all the pre-defined keywords in Python using the keyword library?\n",
        "\n",
        "import keyword\n",
        "print(keyword.kwlist)"
      ],
      "metadata": {
        "colab": {
          "base_uri": "https://localhost:8080/"
        },
        "id": "kjp8LG-ufaIU",
        "outputId": "c67faa64-4195-4946-97d3-d9937110bb4f"
      },
      "execution_count": null,
      "outputs": [
        {
          "output_type": "stream",
          "name": "stdout",
          "text": [
            "['False', 'None', 'True', 'and', 'as', 'assert', 'async', 'await', 'break', 'class', 'continue', 'def', 'del', 'elif', 'else', 'except', 'finally', 'for', 'from', 'global', 'if', 'import', 'in', 'is', 'lambda', 'nonlocal', 'not', 'or', 'pass', 'raise', 'return', 'try', 'while', 'with', 'yield']\n"
          ]
        }
      ]
    },
    {
      "cell_type": "code",
      "source": [
        "# 4. Write a program that checks if a given word is a Python keyword?\n",
        "\n",
        "import keyword\n",
        "\n",
        "def check_keyword(word):\n",
        "    for key in keyword.kwlist:\n",
        "        if key == word:\n",
        "            print(f\"'{word}' is a Python keyword.\")\n",
        "            return\n",
        "    print(f\"'{word}' is not a Python keyword.\")\n",
        "\n",
        "word = input(\"Enter a word to check: \")\n",
        "check_keyword(word)"
      ],
      "metadata": {
        "colab": {
          "base_uri": "https://localhost:8080/"
        },
        "id": "rT7QLKUegKms",
        "outputId": "d0b67b0c-de8a-4850-face-2128c2fc6829"
      },
      "execution_count": null,
      "outputs": [
        {
          "output_type": "stream",
          "name": "stdout",
          "text": [
            "Enter a word to check: for\n",
            "'for' is a Python keyword.\n"
          ]
        }
      ]
    },
    {
      "cell_type": "code",
      "source": [
        "# 5. Create a list and tuple in Python, and demonstrate how attempting to change an element works differently for each?\n",
        "\n",
        "# List Example:- You can modify the elements after creation.\n",
        "my_list = [1,2,3,4,5]\n",
        "my_list[2] = \"Sayed\"\n",
        "print(f\"'{my_list}' Updated List\")\n",
        "\n",
        "print()\n",
        "\n",
        "# Tuple Example:- You cannot modify the elements after creation.\n",
        "my_tuple = (1,2,3,4,5)\n",
        "try:\n",
        "    my_tuple[1] = \"Sayed\"\n",
        "except TypeError as e:\n",
        "    print(\"Error while trying to change tuple element:\", e)\n"
      ],
      "metadata": {
        "id": "2kCRfOrWi6Ze",
        "colab": {
          "base_uri": "https://localhost:8080/"
        },
        "outputId": "f7e3c2f1-b1dd-4863-c1dc-b7c603bce533"
      },
      "execution_count": null,
      "outputs": [
        {
          "output_type": "stream",
          "name": "stdout",
          "text": [
            "'[1, 2, 'Sayed', 4, 5]' Updated List\n",
            "\n",
            "Error while trying to change tuple element: 'tuple' object does not support item assignment\n"
          ]
        }
      ]
    },
    {
      "cell_type": "code",
      "source": [
        "# 6. Write a function to demonstrate the behavior of mutable and immutable arguments?\n",
        "\n",
        "# Mutable Example:- Mutable refers to objects whose state or value can be changed after they are created.\n",
        "def mutable_list(my_list):\n",
        "    print(\"Before modify:\", my_list)\n",
        "    my_list.append(4)\n",
        "    print(\"After modify:\", my_list)\n",
        "numbers = [1, 2, 3]\n",
        "mutable_list(numbers)\n",
        "\n",
        "# Immutable Example:- Immutable refers to objects whose state or value cannot be changed after they are created like, Tuple, Integer, String.\n",
        "\n"
      ],
      "metadata": {
        "colab": {
          "base_uri": "https://localhost:8080/"
        },
        "id": "b6pHtKbgfzy8",
        "outputId": "1516ca76-3f4e-4828-dad7-69fbde637898"
      },
      "execution_count": null,
      "outputs": [
        {
          "output_type": "stream",
          "name": "stdout",
          "text": [
            "Before modify: [1, 2, 3]\n",
            "After modify: [1, 2, 3, 4]\n"
          ]
        }
      ]
    },
    {
      "cell_type": "code",
      "source": [
        "# 7. Write a program to demonstrate the use of logical operators?\n",
        "\n",
        "#Example of Logical Operator's\n",
        "a = 6\n",
        "b = 8\n",
        "\n",
        "# Using 'and' operator\n",
        "if a > 5 and b > 7:\n",
        "    print(\"Both a and b are positive.\")\n",
        "else:\n",
        "    print(\"At least one of a or b is not positive.\")\n",
        "\n",
        "# Using 'or' operator\n",
        "if a > 7 or b > 7:\n",
        "    print(\"At least one of a or b is positive.\")\n",
        "else:\n",
        "    print(\"Neither a nor b is positive.\")\n",
        "\n",
        "# Using 'not' operator\n",
        "if not (a > 15):\n",
        "    print(\"a is not positive.\")\n",
        "else:\n",
        "    print(\"a is positive.\")"
      ],
      "metadata": {
        "colab": {
          "base_uri": "https://localhost:8080/"
        },
        "id": "ZPLW1QLdk-gK",
        "outputId": "46ee0672-25f3-4274-c401-2e113479488f"
      },
      "execution_count": null,
      "outputs": [
        {
          "output_type": "stream",
          "name": "stdout",
          "text": [
            "Both a and b are positive.\n",
            "At least one of a or b is positive.\n",
            "a is not positive.\n"
          ]
        }
      ]
    },
    {
      "cell_type": "code",
      "source": [
        "# 8. Write a Python program to convert user input from string to integer, float, and boolean types?\n",
        "\n",
        "def convert_input():\n",
        "    #input in string\n",
        "    user_input = input(\"Enter a value: \")\n",
        "\n",
        "    # Convert the string to an integer\n",
        "    try:\n",
        "        convert_int = int(user_input)\n",
        "        print(f\"Converted to integer: {convert_int}\")\n",
        "    except ValueError:\n",
        "        print(\"Cannot convert to integer.\")\n",
        "\n",
        "    # Convert the string to a float\n",
        "    try:\n",
        "        convert_float = float(user_input)\n",
        "        print(f\"Converted to float: {convert_float}\")\n",
        "    except ValueError:\n",
        "        print(\"Cannot convert to float.\")\n",
        "\n",
        "    # Convert the string to a boolean\n",
        "    if user_input.lower() == \"true\":\n",
        "        user_input_bool = True\n",
        "    elif user_input.lower() == \"false\":\n",
        "        user_input_bool = False\n",
        "    else:\n",
        "        user_input_bool = bool(user_input)\n",
        "    print(f\"Converted to boolean: {user_input_bool}\")\n",
        "\n",
        "convert_input()\n"
      ],
      "metadata": {
        "colab": {
          "base_uri": "https://localhost:8080/"
        },
        "id": "a24QOZSGq2J-",
        "outputId": "9bb0cf6d-a1a8-4168-ce14-b63fe5c369ba"
      },
      "execution_count": null,
      "outputs": [
        {
          "output_type": "stream",
          "name": "stdout",
          "text": [
            "Enter a value: Taha\n",
            "Cannot convert to integer.\n",
            "Cannot convert to float.\n",
            "Converted to boolean: True\n"
          ]
        }
      ]
    },
    {
      "cell_type": "code",
      "source": [
        "# 9. Write code to demonstrate type casting with list elements?\n",
        "\n",
        "def type_casting_with_list():\n",
        "    str_list = [\"3\", \"5.9\", \"True\", \"250\"]\n",
        "\n",
        "    # Convert list elements to integer, float, and boolean\n",
        "    int_list = [int(x) if x.isdigit() else 0 for x in str_list]\n",
        "    float_list = [float(x) if '.' in x else 0.0 for x in str_list]\n",
        "    bool_list = [x.lower() == 'true' for x in str_list]\n",
        "\n",
        "    print(\"Integer list:\", int_list)\n",
        "    print(\"Float list:\", float_list)\n",
        "    print(\"Boolean list:\", bool_list)\n",
        "\n",
        "type_casting_with_list()\n"
      ],
      "metadata": {
        "colab": {
          "base_uri": "https://localhost:8080/"
        },
        "id": "BNezv8ZBut-p",
        "outputId": "2e38ef82-5555-4b15-a091-197bf2d7cbda"
      },
      "execution_count": null,
      "outputs": [
        {
          "output_type": "stream",
          "name": "stdout",
          "text": [
            "Integer list: [3, 0, 0, 250]\n",
            "Float list: [0.0, 5.9, 0.0, 0.0]\n",
            "Boolean list: [False, False, True, False]\n"
          ]
        }
      ]
    },
    {
      "cell_type": "code",
      "source": [
        "# 10. Write a program that checks if a number is positive, negative, or zero?\n",
        "\n",
        "def check_num():\n",
        "    number = float(input(\"Enter a number: \"))\n",
        "\n",
        "    if number > 0:\n",
        "        print(\"The number is positive.\")\n",
        "    elif number < 0:\n",
        "        print(\"The number is negative.\")\n",
        "    else:\n",
        "        print(\"The number is zero.\")\n",
        "\n",
        "check_num()\n"
      ],
      "metadata": {
        "colab": {
          "base_uri": "https://localhost:8080/"
        },
        "id": "ZTqYrWXDyutX",
        "outputId": "f1b142c6-c063-478a-f570-887a29b0014f"
      },
      "execution_count": null,
      "outputs": [
        {
          "output_type": "stream",
          "name": "stdout",
          "text": [
            "Enter a number: 0\n",
            "The number is zero.\n"
          ]
        }
      ]
    },
    {
      "cell_type": "code",
      "source": [
        "# 11.  Write a for loop to print numbers from 1 to 10?\n",
        "\n",
        "for i in range(1,11):\n",
        "  print(i)"
      ],
      "metadata": {
        "colab": {
          "base_uri": "https://localhost:8080/"
        },
        "id": "HVjYGNFGzh9x",
        "outputId": "f7d174cf-3a6b-4fdb-b0be-1c85945b5c4b"
      },
      "execution_count": null,
      "outputs": [
        {
          "output_type": "stream",
          "name": "stdout",
          "text": [
            "1\n",
            "2\n",
            "3\n",
            "4\n",
            "5\n",
            "6\n",
            "7\n",
            "8\n",
            "9\n",
            "10\n"
          ]
        }
      ]
    },
    {
      "cell_type": "code",
      "source": [
        "# 12. Write a Python program to find the sum of all even numbers between 1 and 50?\n",
        "\n",
        "total_sum = 0\n",
        "for i in range(1, 51):\n",
        "  if i % 2 == 0:\n",
        "    total_sum += i\n",
        "print(\"The sum of all even numbers are: \",total_sum)\n"
      ],
      "metadata": {
        "colab": {
          "base_uri": "https://localhost:8080/"
        },
        "id": "pxG1-fdUzsDQ",
        "outputId": "5b7750d2-b049-4f9b-91cd-a248bfad053f"
      },
      "execution_count": null,
      "outputs": [
        {
          "output_type": "stream",
          "name": "stdout",
          "text": [
            "The sum of all even numbers are:  650\n"
          ]
        }
      ]
    },
    {
      "cell_type": "code",
      "source": [
        "# 13. Write a program to reverse a string using a while loop?\n",
        "\n",
        "original_str = \"Sayed Taha Ali\"\n",
        "reverse_str = \"\"\n",
        "index_str = len(original_str) - 1\n",
        "\n",
        "while index_str >= 0:\n",
        "    reverse_str += original_str[index_str]\n",
        "    index_str -= 1\n",
        "print(\"Reversed string:\", reverse_str)\n"
      ],
      "metadata": {
        "colab": {
          "base_uri": "https://localhost:8080/"
        },
        "id": "FEvjYqse0iCf",
        "outputId": "d0f3ace1-139d-4d33-816a-1483dc15dbbd"
      },
      "execution_count": null,
      "outputs": [
        {
          "output_type": "stream",
          "name": "stdout",
          "text": [
            "Reversed string: ilA ahaT deyaS\n"
          ]
        }
      ]
    },
    {
      "cell_type": "code",
      "source": [
        "# 14. Write a Python program to calculate the factorial of a number provided by the user using a while loop?\n",
        "\n",
        "num = int(input(\"Enter a number to find its factorial: \"))\n",
        "factorial = 1\n",
        "while num > 1:\n",
        "    factorial *= num\n",
        "    num -= 1\n",
        "print(\"The factorial number is :\", factorial)\n"
      ],
      "metadata": {
        "colab": {
          "base_uri": "https://localhost:8080/"
        },
        "id": "e3DnFFOr1pVf",
        "outputId": "3aadd4a7-a5c3-4f1a-eb69-9b8b6cb7bcf8"
      },
      "execution_count": null,
      "outputs": [
        {
          "output_type": "stream",
          "name": "stdout",
          "text": [
            "Enter a number to find its factorial: 14\n",
            "The factorial number is : 87178291200\n"
          ]
        }
      ]
    }
  ]
}