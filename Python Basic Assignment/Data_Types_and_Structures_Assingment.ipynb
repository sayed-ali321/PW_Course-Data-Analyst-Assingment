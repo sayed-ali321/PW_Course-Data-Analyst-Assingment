{
  "nbformat": 4,
  "nbformat_minor": 0,
  "metadata": {
    "colab": {
      "provenance": []
    },
    "kernelspec": {
      "name": "python3",
      "display_name": "Python 3"
    },
    "language_info": {
      "name": "python"
    }
  },
  "cells": [
    {
      "cell_type": "markdown",
      "source": [
        "# **Data Types and Structures Questions**"
      ],
      "metadata": {
        "id": "OMOxZl9HTg2r"
      }
    },
    {
      "cell_type": "markdown",
      "source": [
        "1. What are data structures, and why are they important?\n",
        "  - Data structures are ways of organizing and storing data so that it can be accessed and modified efficiently.\n",
        "  - They're important because they help us solve problems faster, use memory more efficiently, and make computer programs run smoother."
      ],
      "metadata": {
        "id": "ATZ9u2f_TpZy"
      }
    },
    {
      "cell_type": "markdown",
      "source": [
        "2.  Explain the difference between mutable and immutable data types with examples?\n",
        "  - Mutable data types can be changed or modified after they are created, while immutable data types cannot be changed once they are created.\n",
        "  - **Mutable can be changed**\n",
        "  List in Python is mutable. You can add, remove, or modify elements after the list is created.\n",
        "```\n",
        "my_list = [1, 2, 3]\n",
        "my_list[0] = 4  # Now the list is [4, 2, 3]\n",
        "```\n",
        "  - **Immutable cannot be changed** Tuple in Python is immutable. Once a tuple is created, you can't modify its elements\n",
        "```\n",
        "my_tuple = (1, 2, 3)\n",
        "# my_tuple[0] = 4  # This will raise an error\n",
        "```"
      ],
      "metadata": {
        "id": "ZegLWHGkUzva"
      }
    },
    {
      "cell_type": "markdown",
      "source": [
        "3. What are the main differences between lists and tuples in Python?\n",
        "  - In Python, the main differences between lists and tuples are that lists are mutable, while tuples are immutable."
      ],
      "metadata": {
        "id": "Hv8V5moOWqV9"
      }
    },
    {
      "cell_type": "markdown",
      "source": [
        "4. Describe how dictionaries store data?\n",
        "  - Dictionaries are used to store data values in key:value pairs. A dictionary is a collection which is ordered, changeable and do not allow duplicates."
      ],
      "metadata": {
        "id": "Y07h75LIXPnL"
      }
    },
    {
      "cell_type": "markdown",
      "source": [
        "5. Why might you use a set instead of a list in Python?\n",
        "  - A set automatically removes duplicates. If you only care about unique values, a set is a good choice.\n",
        "```\n",
        "Example: my_set = {1, 2, 3, 3} becomes {1, 2, 3}\n",
        "```\n",
        "  - Sets are unordered, meaning you can't access elements by index like in a list. Use a set when order doesn’t matter and you need uniqueness or faster lookups."
      ],
      "metadata": {
        "id": "7eHZEa6MX4Xn"
      }
    },
    {
      "cell_type": "markdown",
      "source": [
        "6. What is a string in Python, and how is it different from a list?\n",
        "  - A string in Python is a sequence of characters enclosed in single (') or double (\") quotes. It is used to store text data.\n",
        "  - A list is a sequence of items, where each item could be anything (an integer, a float, a string, etc)."
      ],
      "metadata": {
        "id": "NXInWUiyYsaG"
      }
    },
    {
      "cell_type": "markdown",
      "source": [
        "7. How do tuples ensure data integrity in Python?\n",
        "  - Tuples ensure data integrity in Python because they are immutable, meaning once a tuple is created, its data cannot be changed, added, or removed. This helps to protect the data from accidental modifications, ensuring that the values inside the tuple remain constant throughout the program."
      ],
      "metadata": {
        "id": "tfQWyzI9ZkMn"
      }
    },
    {
      "cell_type": "markdown",
      "source": [
        "8. What is a hash table, and how does it relate to dictionaries in Python?\n",
        "  - A hash table is a data structure that stores data in a way that allows for fast access using a key. It works by applying a hash function to the key, which converts it into a unique index where the associated value is stored. This makes looking up, adding, or removing values very efficient.\n",
        "  - In Python, dictionaries are implemented using hash tables. When you use a dictionary, the keys are hashed to determine where the values are stored. This allows for quick lookups based on the key."
      ],
      "metadata": {
        "id": "pt0EhZSmZ5CT"
      }
    },
    {
      "cell_type": "markdown",
      "source": [
        "9.  Can lists contain different data types in Python?\n",
        "  - Yes"
      ],
      "metadata": {
        "id": "RueU2-L2aujM"
      }
    },
    {
      "cell_type": "markdown",
      "source": [
        "10. Explain why strings are immutable in Python?\n",
        "  - Strings are immutable in Python because to make them faster and safer. When a string is created, it stays the same throughout the program. This prevents accidental changes to the string, which can avoid bugs and makes string handling more efficient."
      ],
      "metadata": {
        "id": "1Y7GU6GAa7rY"
      }
    },
    {
      "cell_type": "markdown",
      "source": [
        "11. What advantages do dictionaries offer over lists for certain tasks?\n",
        "  - Dictionaries are ideal when you need fast access to data and to store items that are related in a key-value format."
      ],
      "metadata": {
        "id": "I3bfQ2lPbTv9"
      }
    },
    {
      "cell_type": "markdown",
      "source": [
        "12. Describe a scenario where using a tuple would be preferable over a list?\n",
        "  - A scenario where using a tuple would be preferable over a list is when you have a fixed collection of data that should not be modified, such as representing coordinates (latitude, longitude) or storing immutable configuration values.\n",
        "  -"
      ],
      "metadata": {
        "id": "t-9Eynk6cG5g"
      }
    },
    {
      "cell_type": "markdown",
      "source": [
        "13.  How do sets handle duplicate values in Python?\n",
        "  - Sets in Python automatically remove duplicate values. When you try to add a duplicate item to a set, it simply won't be added."
      ],
      "metadata": {
        "id": "o73aEbUCcsHa"
      }
    },
    {
      "cell_type": "markdown",
      "source": [
        "14. How does the “in” keyword work differently for lists and dictionaries?\n",
        "  - For lists, \"in\" checks for a value.\n",
        "  - For dictionaries, \"in\" checks for a key."
      ],
      "metadata": {
        "id": "uiVsrPsQc7EY"
      }
    },
    {
      "cell_type": "markdown",
      "source": [
        "15. Can you modify the elements of a tuple? Explain why or why not?\n",
        "  - No, you cannot modify the elements of a tuple in Python because tuples are immutable, meaning once they are created, their contents cannot be changed, added, or removed. This immutability ensures that the data remains consistent and safe from accidental modifications."
      ],
      "metadata": {
        "id": "S7kFSO_TdRww"
      }
    },
    {
      "cell_type": "markdown",
      "source": [
        "16.  What is a nested dictionary, and give an example of its use case?\n",
        "  - A nested dictionary is a dictionary where the value associated with a key is itself another dictionary. This allows you to store more complex data structures within a dictionary.\n",
        "  ```\n",
        "  student_info = {\n",
        "    \"Alice\": {\"age\": 25, \"major\": \"Computer Science\", \"grade\": \"A\"},\n",
        "    \"Bob\": {\"age\": 22, \"major\": \"Mathematics\", \"grade\": \"B\"}\n",
        "}\n",
        "```"
      ],
      "metadata": {
        "id": "R7dW_k6XdoRg"
      }
    },
    {
      "cell_type": "markdown",
      "source": [
        "17. Describe the time complexity of accessing elements in a dictionary?\n",
        "  - Accessing elements in a dictionary in Python generally has an average time complexity of O(1), meaning it takes constant time regardless of the size of the dictionary because in Python dictionaries are implemented using a hash table."
      ],
      "metadata": {
        "id": "p6EClFZTd-Xl"
      }
    },
    {
      "cell_type": "markdown",
      "source": [
        "18. In what situations are lists preferred over dictionaries?\n",
        "  - Use lists when you care about the order of items or when you have a simple collection of values."
      ],
      "metadata": {
        "id": "l4UQ39xyowSR"
      }
    },
    {
      "cell_type": "markdown",
      "source": [
        "19. Why are dictionaries considered unordered, and how does that affect data retrieval?\n",
        "  - Dictionaries in Python are considered unordered because the order in which key-value pairs are stored is not guaranteed. This is due to the underlying hash table implementation, where keys are hashed, and the data is stored based on those hash values rather than in any specific sequence."
      ],
      "metadata": {
        "id": "EeKS24xUpNKG"
      }
    },
    {
      "cell_type": "markdown",
      "source": [
        "20. Explain the difference between a list and a dictionary in terms of data retrieval?\n",
        "  - In a list, data is retrieved by index, meaning you access elements based on their position (e.g., my_list[0]). You can access by index (position-based).\n",
        "  - In a dictionary, data is retrieved by key, meaning you access values using a unique key (e.g., my_dict[\"key\"]). You can access by key (key-value pair-based)."
      ],
      "metadata": {
        "id": "r7YspETppt9T"
      }
    },
    {
      "cell_type": "markdown",
      "source": [
        "# **Practical Questions**"
      ],
      "metadata": {
        "id": "Q078srkxqOZM"
      }
    },
    {
      "cell_type": "code",
      "source": [
        "# 1. Write a code to create a string with your name and print it?\n",
        "\n",
        "name = (\"Sayed Taha Ali\")\n",
        "print(name)\n"
      ],
      "metadata": {
        "colab": {
          "base_uri": "https://localhost:8080/"
        },
        "id": "bCzYaH6-qbUC",
        "outputId": "ca5c99e9-edfa-4087-f89a-786705a99cb2"
      },
      "execution_count": 2,
      "outputs": [
        {
          "output_type": "stream",
          "name": "stdout",
          "text": [
            "Sayed Taha Ali\n"
          ]
        }
      ]
    },
    {
      "cell_type": "code",
      "source": [
        "# 2. Write a code to find the length of the string \"Hello World\"?\n",
        "\n",
        "len_gth = (\"Hello World\")\n",
        "print(len(len_gth))"
      ],
      "metadata": {
        "colab": {
          "base_uri": "https://localhost:8080/"
        },
        "id": "TGtRBwf1quYR",
        "outputId": "8837b339-c555-4eef-a730-d42b5a503858"
      },
      "execution_count": 4,
      "outputs": [
        {
          "output_type": "stream",
          "name": "stdout",
          "text": [
            "11\n"
          ]
        }
      ]
    },
    {
      "cell_type": "code",
      "source": [
        "# 3. Write a code to slice the first 3 characters from the string \"Python Programming\"?\n",
        "\n",
        "slic_e = (\"Python Programming\")\n",
        "print(slic_e[0:3])"
      ],
      "metadata": {
        "colab": {
          "base_uri": "https://localhost:8080/"
        },
        "id": "p6tUy-XzriAB",
        "outputId": "3c949d2e-ba5a-44c6-d35f-d9ef421c06ac"
      },
      "execution_count": 6,
      "outputs": [
        {
          "output_type": "stream",
          "name": "stdout",
          "text": [
            "Pyt\n"
          ]
        }
      ]
    },
    {
      "cell_type": "code",
      "source": [
        "# 4. Write a code to convert the string \"hello\" to uppercase?\n",
        "\n",
        "upp_er = (\"hello\")\n",
        "upp_er.upper()\n",
        "print(upp_er)"
      ],
      "metadata": {
        "colab": {
          "base_uri": "https://localhost:8080/"
        },
        "id": "ggXfZC9osErj",
        "outputId": "2b73243b-256c-4a0b-b670-b260bc417f4f"
      },
      "execution_count": 12,
      "outputs": [
        {
          "output_type": "stream",
          "name": "stdout",
          "text": [
            "hello\n"
          ]
        }
      ]
    },
    {
      "cell_type": "code",
      "source": [
        "# 5. Write a code to replace the word \"apple\" with \"orange\" in the string \"I like apple\"?\n",
        "\n",
        "str_ing = \"I like apple\"\n",
        "str_ing.replace(\"apple\", \"orange\")\n",
        "print(str_ing)\n"
      ],
      "metadata": {
        "colab": {
          "base_uri": "https://localhost:8080/"
        },
        "id": "2XkzGdNksugN",
        "outputId": "3c35f549-9e65-4e6d-c29a-40793f6aebcd"
      },
      "execution_count": 11,
      "outputs": [
        {
          "output_type": "stream",
          "name": "stdout",
          "text": [
            "I like apple\n"
          ]
        }
      ]
    },
    {
      "cell_type": "code",
      "source": [
        "# 6. Write a code to create a list with numbers 1 to 5 and print it?\n",
        "\n",
        "my_list = [1, 2, 3, 4, 5]\n",
        "print(my_list)\n"
      ],
      "metadata": {
        "colab": {
          "base_uri": "https://localhost:8080/"
        },
        "id": "z0n-QAJRtF28",
        "outputId": "d5ab22d5-a5d5-4d5a-c95b-a3fcbc6ca94c"
      },
      "execution_count": 9,
      "outputs": [
        {
          "output_type": "stream",
          "name": "stdout",
          "text": [
            "[1, 2, 3, 4, 5]\n"
          ]
        }
      ]
    },
    {
      "cell_type": "code",
      "source": [
        "# 7. Write a code to append the number 10 to the list [1, 2, 3, 4]?\n",
        "\n",
        "my_list = [1, 2, 3, 4]\n",
        "my_list.append(10)\n",
        "print(my_list)"
      ],
      "metadata": {
        "colab": {
          "base_uri": "https://localhost:8080/"
        },
        "id": "OVEd8aaburNS",
        "outputId": "4e232992-f074-4da4-85a5-02349156dc46"
      },
      "execution_count": 10,
      "outputs": [
        {
          "output_type": "stream",
          "name": "stdout",
          "text": [
            "[1, 2, 3, 4, 10]\n"
          ]
        }
      ]
    },
    {
      "cell_type": "code",
      "source": [
        "# 8. Write a code to remove the number 3 from the list [1, 2, 3, 4, 5]?\n",
        "\n",
        "my_list = [1, 2, 3, 4, 5]\n",
        "my_list.remove(3)\n",
        "print(my_list)"
      ],
      "metadata": {
        "colab": {
          "base_uri": "https://localhost:8080/"
        },
        "id": "D6LRcXVGvOao",
        "outputId": "9121ac51-1f7f-45ce-9569-874dfa38ca78"
      },
      "execution_count": 13,
      "outputs": [
        {
          "output_type": "stream",
          "name": "stdout",
          "text": [
            "[1, 2, 4, 5]\n"
          ]
        }
      ]
    },
    {
      "cell_type": "code",
      "source": [
        "# 9. Write a code to access the second element in the list ['a', 'b', 'c', 'd']?\n",
        "\n",
        "my_list = ['a', 'b', 'c', 'd']\n",
        "print(my_list[1])"
      ],
      "metadata": {
        "colab": {
          "base_uri": "https://localhost:8080/"
        },
        "id": "Cjx-vu4xvgNv",
        "outputId": "8b4d0e8e-01f4-4422-e155-78705aaaaf48"
      },
      "execution_count": 15,
      "outputs": [
        {
          "output_type": "stream",
          "name": "stdout",
          "text": [
            "b\n"
          ]
        }
      ]
    },
    {
      "cell_type": "code",
      "source": [
        "# 10. Write a code to reverse the list [10, 20, 30, 40, 50]?\n",
        "\n",
        "my_list = [10, 20, 30, 40, 50]\n",
        "my_list.reverse()\n",
        "print(my_list)"
      ],
      "metadata": {
        "colab": {
          "base_uri": "https://localhost:8080/"
        },
        "id": "8R23mP2Dv-EI",
        "outputId": "a2ccf558-b7c0-485c-96a1-0b2dcdd81ce3"
      },
      "execution_count": 16,
      "outputs": [
        {
          "output_type": "stream",
          "name": "stdout",
          "text": [
            "[50, 40, 30, 20, 10]\n"
          ]
        }
      ]
    },
    {
      "cell_type": "code",
      "source": [
        "# 11. Write a code to create a tuple with the elements 100, 200, 300 and print it?\n",
        "\n",
        "my_tuple = (100, 200, 300)\n",
        "print(my_tuple)\n"
      ],
      "metadata": {
        "colab": {
          "base_uri": "https://localhost:8080/"
        },
        "id": "KJm4MbrTwSAu",
        "outputId": "2ea4135b-3bce-44a8-db47-b6d5f76e6bd8"
      },
      "execution_count": 17,
      "outputs": [
        {
          "output_type": "stream",
          "name": "stdout",
          "text": [
            "(100, 200, 300)\n"
          ]
        }
      ]
    },
    {
      "cell_type": "code",
      "source": [
        "# 12.  Write a code to access the second-to-last element of the tuple ('red', 'green', 'blue', 'yellow')?\n",
        "\n",
        "my_tuple = ('red', 'green', 'blue', 'yellow')\n",
        "print(my_tuple[1:])"
      ],
      "metadata": {
        "colab": {
          "base_uri": "https://localhost:8080/"
        },
        "id": "ir_x1vvvwlQT",
        "outputId": "46935aff-335f-4418-e787-bb4c34f9167c"
      },
      "execution_count": 18,
      "outputs": [
        {
          "output_type": "stream",
          "name": "stdout",
          "text": [
            "('green', 'blue', 'yellow')\n"
          ]
        }
      ]
    },
    {
      "cell_type": "code",
      "source": [
        "# 13.  Write a code to find the minimum number in the tuple (10, 20, 5, 15)?\n",
        "\n",
        "my_tuple = (10, 20, 5, 15)\n",
        "print(min(my_tuple))"
      ],
      "metadata": {
        "colab": {
          "base_uri": "https://localhost:8080/"
        },
        "id": "SBZ9aH8lw4oa",
        "outputId": "4ee4201a-bd04-4a26-d517-2d29c8f1f337"
      },
      "execution_count": 22,
      "outputs": [
        {
          "output_type": "stream",
          "name": "stdout",
          "text": [
            "5\n"
          ]
        }
      ]
    },
    {
      "cell_type": "code",
      "source": [
        "# 14.  Write a code to find the index of the element \"cat\" in the tuple ('dog', 'cat', 'rabbit')?\n",
        "\n",
        "my_tuple = ('dog', 'cat', 'rabbit')\n",
        "index_cat = my_tuple.index(\"cat\")\n",
        "print(index_cat)"
      ],
      "metadata": {
        "colab": {
          "base_uri": "https://localhost:8080/"
        },
        "id": "7agmweG1xkgy",
        "outputId": "d70f0402-7e6d-44f1-c0d8-5545c0ee496b"
      },
      "execution_count": 24,
      "outputs": [
        {
          "output_type": "stream",
          "name": "stdout",
          "text": [
            "1\n"
          ]
        }
      ]
    },
    {
      "cell_type": "code",
      "source": [
        "# 15. Write a code to create a tuple containing three different fruits and check if \"kiwi\" is in it?\n",
        "\n",
        "fruits = ('apple', 'banana', 'grapes')\n",
        "kiwi_in = 'kiwi' in fruits\n",
        "print(kiwi_in)\n"
      ],
      "metadata": {
        "colab": {
          "base_uri": "https://localhost:8080/"
        },
        "id": "II17W_DPyaan",
        "outputId": "504ae2ea-081d-44a7-e308-65a69ce8259d"
      },
      "execution_count": 25,
      "outputs": [
        {
          "output_type": "stream",
          "name": "stdout",
          "text": [
            "False\n"
          ]
        }
      ]
    },
    {
      "cell_type": "code",
      "source": [
        "# 16.  Write a code to create a set with the elements 'a', 'b', 'c' and print it?\n",
        "\n",
        "my_set = {\"a\", \"b\", \"c\"}\n",
        "print(my_set)"
      ],
      "metadata": {
        "colab": {
          "base_uri": "https://localhost:8080/"
        },
        "id": "ozEG-EB6y6eY",
        "outputId": "561f88b6-a636-4b43-85d6-4e5451f598f7"
      },
      "execution_count": 26,
      "outputs": [
        {
          "output_type": "stream",
          "name": "stdout",
          "text": [
            "{'b', 'c', 'a'}\n"
          ]
        }
      ]
    },
    {
      "cell_type": "code",
      "source": [
        "# 17. Write a code to clear all elements from the set {1, 2, 3, 4, 5}?\n",
        "\n",
        "my_set = {1, 2, 3, 4, 5}\n",
        "my_set.clear()\n",
        "print(my_set)"
      ],
      "metadata": {
        "colab": {
          "base_uri": "https://localhost:8080/"
        },
        "id": "GFKubnLHzNMU",
        "outputId": "e6b5cbc4-8d73-45bf-f9b3-c19d8195667a"
      },
      "execution_count": 27,
      "outputs": [
        {
          "output_type": "stream",
          "name": "stdout",
          "text": [
            "set()\n"
          ]
        }
      ]
    },
    {
      "cell_type": "code",
      "source": [
        "# 18. Write a code to remove the element 4 from the set {1, 2, 3, 4}?\n",
        "\n",
        "my_set = {1, 2, 3, 4}\n",
        "my_set.remove(4)\n",
        "print(my_set)"
      ],
      "metadata": {
        "colab": {
          "base_uri": "https://localhost:8080/"
        },
        "id": "YL_ml61Fzkbq",
        "outputId": "5b279ff5-e060-467d-ad89-9c907ec1cc9f"
      },
      "execution_count": 28,
      "outputs": [
        {
          "output_type": "stream",
          "name": "stdout",
          "text": [
            "{1, 2, 3}\n"
          ]
        }
      ]
    },
    {
      "cell_type": "code",
      "source": [
        "# 19. Write a code to find the union of two sets {1, 2, 3} and {3, 4, 5}?\n",
        "\n",
        "set1 = {1, 2, 3}\n",
        "set2 = {3, 4, 5}\n",
        "\n",
        "union_set = set1 | set2\n",
        "print(union_set)"
      ],
      "metadata": {
        "colab": {
          "base_uri": "https://localhost:8080/"
        },
        "id": "ZVRieFiYz0Qo",
        "outputId": "164307bf-66e5-433e-a5be-45d8da4d894c"
      },
      "execution_count": 30,
      "outputs": [
        {
          "output_type": "stream",
          "name": "stdout",
          "text": [
            "{1, 2, 3, 4, 5}\n"
          ]
        }
      ]
    },
    {
      "cell_type": "code",
      "source": [
        "# 20. Write a code to find the intersection of two sets {1, 2, 3} and {2, 3, 4}?\n",
        "\n",
        "set1 = {1, 2, 3}\n",
        "set2 = {2, 3, 4}\n",
        "\n",
        "intersection_set = set1 & set2\n",
        "print(intersection_set)"
      ],
      "metadata": {
        "colab": {
          "base_uri": "https://localhost:8080/"
        },
        "id": "1L66kmAD0T-Z",
        "outputId": "f09f5c33-46b9-41f7-c621-d4c0d14cea57"
      },
      "execution_count": 31,
      "outputs": [
        {
          "output_type": "stream",
          "name": "stdout",
          "text": [
            "{2, 3}\n"
          ]
        }
      ]
    },
    {
      "cell_type": "code",
      "source": [
        "# 21. Write a code to create a dictionary with the keys \"name\", \"age\", and \"city\", and print it?\n",
        "\n",
        "my_dict = {\"name\": \"Sayed Taha Ali\", \"age\": 25, \"city\": \"Patna\"}\n",
        "print(my_dict)"
      ],
      "metadata": {
        "colab": {
          "base_uri": "https://localhost:8080/"
        },
        "id": "jaCcaGo40s2s",
        "outputId": "2498fb3a-4ffa-43ca-e456-fe9970e9cfc1"
      },
      "execution_count": 32,
      "outputs": [
        {
          "output_type": "stream",
          "name": "stdout",
          "text": [
            "{'name': 'Sayed Taha Ali', 'age': 25, 'city': 'Patna'}\n"
          ]
        }
      ]
    },
    {
      "cell_type": "code",
      "source": [
        "# 22. Write a code to add a new key-value pair \"country\": \"USA\" to the dictionary {'name': 'John', 'age': 25}?\n",
        "\n",
        "my_dict = {'name': 'John', 'age': 25}\n",
        "my_dict['country'] = 'USA'\n",
        "print(my_dict)\n"
      ],
      "metadata": {
        "colab": {
          "base_uri": "https://localhost:8080/"
        },
        "id": "jCapAOPS1HVo",
        "outputId": "32bd7da4-e3fd-4b3a-efe5-0c9fe86c6161"
      },
      "execution_count": 33,
      "outputs": [
        {
          "output_type": "stream",
          "name": "stdout",
          "text": [
            "{'name': 'John', 'age': 25, 'country': 'USA'}\n"
          ]
        }
      ]
    },
    {
      "cell_type": "code",
      "source": [
        "# 23. Write a code to access the value associated with the key \"name\" in the dictionary {'name': 'Alice', 'age': 30}?\n",
        "\n",
        "my_dict = {'name': 'Alice', 'age': 30}\n",
        "my_name = my_dict['name']\n",
        "print(my_name)"
      ],
      "metadata": {
        "colab": {
          "base_uri": "https://localhost:8080/"
        },
        "id": "A1u_HVji15ku",
        "outputId": "3934672b-28cf-4817-cd62-683cfaf1a0a4"
      },
      "execution_count": 35,
      "outputs": [
        {
          "output_type": "stream",
          "name": "stdout",
          "text": [
            "Alice\n"
          ]
        }
      ]
    },
    {
      "cell_type": "code",
      "source": [
        "# 24. Write a code to remove the key \"age\" from the dictionary {'name': 'Bob', 'age': 22, 'city': 'New York'}?\n",
        "\n",
        "my_dict = {'name': 'Bob', 'age': 22, 'city': 'New York'}\n",
        "del my_dict['age']\n",
        "print(my_dict)"
      ],
      "metadata": {
        "colab": {
          "base_uri": "https://localhost:8080/"
        },
        "id": "Pdc_3Zo02XFg",
        "outputId": "b3451482-a263-40df-afbd-50cca2424058"
      },
      "execution_count": 37,
      "outputs": [
        {
          "output_type": "stream",
          "name": "stdout",
          "text": [
            "{'name': 'Bob', 'city': 'New York'}\n"
          ]
        }
      ]
    },
    {
      "cell_type": "code",
      "source": [
        "# 25. Write a code to check if the key \"city\" exists in the dictionary {'name': 'Alice', 'city': 'Paris'}?\n",
        "\n",
        "my_dict = {'name': 'Alice', 'city': 'Paris'}\n",
        "key_exists = 'city' in my_dict\n",
        "print(key_exists)\n"
      ],
      "metadata": {
        "colab": {
          "base_uri": "https://localhost:8080/"
        },
        "id": "Y55ETAME2uwA",
        "outputId": "ab43b9e1-a7ae-47c9-cc7e-355e4b3623ed"
      },
      "execution_count": 38,
      "outputs": [
        {
          "output_type": "stream",
          "name": "stdout",
          "text": [
            "True\n"
          ]
        }
      ]
    },
    {
      "cell_type": "code",
      "source": [
        "# 26.  Write a code to create a list, a tuple, and a dictionary, and print them all?\n",
        "\n",
        "# list\n",
        "my_list = [1, 2, 3, 4, 5]\n",
        "\n",
        "# tuple\n",
        "my_tuple = (10, 20, 30)\n",
        "\n",
        "# dictionary\n",
        "my_dict = {'name': 'Sayed Taha Ali', 'age': 25}\n",
        "\n",
        "print(\"List:\", my_list)\n",
        "print(\"Tuple:\", my_tuple)\n",
        "print(\"Dictionary:\", my_dict)\n"
      ],
      "metadata": {
        "colab": {
          "base_uri": "https://localhost:8080/"
        },
        "id": "yZn3lf4t3Akr",
        "outputId": "63c3413b-8a6f-450c-9f5c-27db4f69e30a"
      },
      "execution_count": 39,
      "outputs": [
        {
          "output_type": "stream",
          "name": "stdout",
          "text": [
            "List: [1, 2, 3, 4, 5]\n",
            "Tuple: (10, 20, 30)\n",
            "Dictionary: {'name': 'Sayed Taha Ali', 'age': 25}\n"
          ]
        }
      ]
    },
    {
      "cell_type": "code",
      "source": [
        "# 27. Write a code to create a list of 5 random numbers between 1 and 100, sort it in ascending order, and print the result.(replaced)?\n",
        "\n",
        "import random\n",
        "random_num = []\n",
        "\n",
        "for i in range(5):\n",
        "    random_num.append(random.randint(1, 100))\n",
        "random_num.sort()\n",
        "print(random_num)\n"
      ],
      "metadata": {
        "colab": {
          "base_uri": "https://localhost:8080/"
        },
        "id": "vUU_5FfM3iOF",
        "outputId": "3824990d-aabf-44a7-9861-afc788007282"
      },
      "execution_count": 42,
      "outputs": [
        {
          "output_type": "stream",
          "name": "stdout",
          "text": [
            "[20, 23, 36, 50, 89]\n"
          ]
        }
      ]
    },
    {
      "cell_type": "code",
      "source": [
        "# 28.  Write a code to create a list with strings and print the element at the third index?\n",
        "\n",
        "my_list = [\"patna\", \"delhi\", \"banglore\", \"gaya\", \"varanasi\"]\n",
        "print(my_list[3])\n"
      ],
      "metadata": {
        "colab": {
          "base_uri": "https://localhost:8080/"
        },
        "id": "jVevQYWB4v9R",
        "outputId": "be8ac254-85c2-4bed-df72-f17f54f6af51"
      },
      "execution_count": 43,
      "outputs": [
        {
          "output_type": "stream",
          "name": "stdout",
          "text": [
            "gaya\n"
          ]
        }
      ]
    },
    {
      "cell_type": "code",
      "source": [
        "# 29. Write a code to combine two dictionaries into one and print the result?\n",
        "\n",
        "dict1 = {'name': 'Sayed Taha Ali', 'age': 25}\n",
        "dict2 = {'city': 'Patna', 'country': 'India'}\n",
        "\n",
        "combine_dict = {**dict1, **dict2}\n",
        "print(combine_dict)\n"
      ],
      "metadata": {
        "colab": {
          "base_uri": "https://localhost:8080/"
        },
        "id": "i11TJRXY5ObE",
        "outputId": "c7b2c4ec-debf-4c08-acd8-7dafabae784f"
      },
      "execution_count": 45,
      "outputs": [
        {
          "output_type": "stream",
          "name": "stdout",
          "text": [
            "{'name': 'Sayed Taha Ali', 'age': 25, 'city': 'Patna', 'country': 'India'}\n"
          ]
        }
      ]
    },
    {
      "cell_type": "code",
      "source": [
        "# 30. Write a code to convert a list of strings into a set?\n",
        "\n",
        "my_list = [\"apple\", \"banana\", \"cherry\", \"apple\"]\n",
        "my_set = set(my_list)\n",
        "print(my_set)\n"
      ],
      "metadata": {
        "colab": {
          "base_uri": "https://localhost:8080/"
        },
        "id": "hijtvc_A5ux4",
        "outputId": "369de3c5-c1b7-4330-db37-647069f034bd"
      },
      "execution_count": 46,
      "outputs": [
        {
          "output_type": "stream",
          "name": "stdout",
          "text": [
            "{'cherry', 'apple', 'banana'}\n"
          ]
        }
      ]
    }
  ]
}