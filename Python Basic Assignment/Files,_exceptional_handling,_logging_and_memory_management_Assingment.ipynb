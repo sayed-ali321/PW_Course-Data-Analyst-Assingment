{
  "nbformat": 4,
  "nbformat_minor": 0,
  "metadata": {
    "colab": {
      "provenance": []
    },
    "kernelspec": {
      "name": "python3",
      "display_name": "Python 3"
    },
    "language_info": {
      "name": "python"
    }
  },
  "cells": [
    {
      "cell_type": "markdown",
      "source": [
        "### **Theory Questions**"
      ],
      "metadata": {
        "id": "_oxqe_sZOEar"
      }
    },
    {
      "cell_type": "markdown",
      "source": [
        "1. What is the difference between interpreted and compiled languages?\n",
        "\n",
        "  - Compiled languages (like C++) are translated directly into machine code before execution, resulting in faster performance. Interpreted languages (like Python) are executed line by line by an interpreter, making them more flexible but generally slower"
      ],
      "metadata": {
        "id": "q8tl7xIKOSmF"
      }
    },
    {
      "cell_type": "markdown",
      "source": [
        "2. What is exception handling in Python?\n",
        "\n",
        "  - Exception handling is a mechanism to deal with errors or unexpected events that occur during program execution. It allows the program to continue running even if an error occurs."
      ],
      "metadata": {
        "id": "kCinxDq4PDA8"
      }
    },
    {
      "cell_type": "markdown",
      "source": [
        "3. What is the purpose of the finally block in exception handling?\n",
        "\n",
        "  - The finally block contains code that will always be executed, regardless of whether an exception occurred or not. It's typically used for cleanup operations like closing files or releasing resources."
      ],
      "metadata": {
        "id": "JatNIl3JPJcj"
      }
    },
    {
      "cell_type": "markdown",
      "source": [
        "4. What is logging in Python?\n",
        "\n",
        "  - Logging is a way to record events that occur during the execution of a program. It helps in debugging, monitoring, and understanding the program's behavior."
      ],
      "metadata": {
        "id": "UTFdHhKvPP6J"
      }
    },
    {
      "cell_type": "markdown",
      "source": [
        "5. What is the significance of the del method in Python?\n",
        "\n",
        "  - The del method (destructor) is called when an object is about to be garbage collected. It's used to release resources held by the object. However, its usage is discouraged due to potential issues with garbage collection cycles."
      ],
      "metadata": {
        "id": "ZDovTh7NPXEt"
      }
    },
    {
      "cell_type": "markdown",
      "source": [
        "6. What is the difference between import and from ... import in Python?\n",
        "\n",
        "  - import module imports the entire module, and you access its functions/classes using module.function(). from module import function imports specific items directly, so you can use them without the module prefix."
      ],
      "metadata": {
        "id": "1-o2EkQdPdNN"
      }
    },
    {
      "cell_type": "markdown",
      "source": [
        "7. How can you handle multiple exceptions in Python?\n",
        "\n",
        "  - You can handle multiple exceptions using multiple except blocks, specifying different exception types for each block: try: # code that might raise exceptions except ValueError: # handle ValueError except TypeError: # handle TypeError except Exception as e: # handle other exceptions"
      ],
      "metadata": {
        "id": "7Ga82vSpPjrV"
      }
    },
    {
      "cell_type": "markdown",
      "source": [
        "8. What is the purpose of the with statement when handling files in Python?\n",
        "\n",
        "  - The with statement ensures that resources (like files) are properly managed. It automatically closes the file when the block is exited, even if exceptions occur."
      ],
      "metadata": {
        "id": "TmTH-YE0PybK"
      }
    },
    {
      "cell_type": "markdown",
      "source": [
        "9. What is the difference between multithreading and multiprocessing?\n",
        "\n",
        "  - Multithreading runs multiple threads within a single process, sharing the same memory space. Multiprocessing runs multiple processes, each with its own memory space. Multiprocessing is better for CPU-bound tasks, while multithreading is better for I/O-bound tasks."
      ],
      "metadata": {
        "id": "Uz1g5y24P4Yz"
      }
    },
    {
      "cell_type": "markdown",
      "source": [
        "10. What are the advantages of using logging in a program?\n",
        "\n",
        "  - Logging helps in debugging, provides a history of program execution, allows filtering of messages based on severity, and aids in monitoring and analyzing program behavior."
      ],
      "metadata": {
        "id": "vlnkhCOeQCis"
      }
    },
    {
      "cell_type": "markdown",
      "source": [
        "11. What is memory management in Python?\n",
        "\n",
        "  - Memory management in Python involves allocating and deallocating memory for objects. Python uses automatic memory management through garbage collection."
      ],
      "metadata": {
        "id": "ssQAT9toQIMf"
      }
    },
    {
      "cell_type": "markdown",
      "source": [
        "12. What are the basic steps involved in exception handling in Python?\n",
        "\n",
        "  - Enclose code that might raise an exception in a try block.\n",
        "  - Use except blocks to handle specific exceptions.\n",
        "  - Optionally, use a finally block for cleanup."
      ],
      "metadata": {
        "id": "BqHbwyZgQRK_"
      }
    },
    {
      "cell_type": "markdown",
      "source": [
        "13. Why is memory management important in Python?\n",
        "\n",
        "  - Efficient memory management prevents memory leaks and ensures that the program uses resources effectively, leading to better performance and stability."
      ],
      "metadata": {
        "id": "wbRHaj5AQu3q"
      }
    },
    {
      "cell_type": "markdown",
      "source": [
        "14. What is the role of try and except in exception handling?\n",
        "\n",
        "  - The try block contains the code that might raise an exception. The except block specifies how to handle the exception if it occurs."
      ],
      "metadata": {
        "id": "R5bVlkjOQyq3"
      }
    },
    {
      "cell_type": "markdown",
      "source": [
        "15. How does Python's garbage collection system work?\n",
        "\n",
        "  - Python uses automatic garbage collection, primarily reference counting. When an object's reference count drops to zero, it is deallocated. It also uses a cyclic garbage collector to handle objects involved in reference cycles."
      ],
      "metadata": {
        "id": "Wqb1EUxUQ38W"
      }
    },
    {
      "cell_type": "markdown",
      "source": [
        "16. What is the purpose of the else block in exception handling?\n",
        "\n",
        "  - The else block is executed if no exceptions are raised in the try block. It's used for code that should only run if the try block succeeds."
      ],
      "metadata": {
        "id": "u3ZS_3yzRAI-"
      }
    },
    {
      "cell_type": "markdown",
      "source": [
        "17. What are the common logging levels in Python?\n",
        "\n",
        "  - DEBUG,\n",
        "INFO,\n",
        "WARNING,\n",
        "ERROR and\n",
        "CRITICAL"
      ],
      "metadata": {
        "id": "cZvGG4OdRF_y"
      }
    },
    {
      "cell_type": "markdown",
      "source": [
        "18. What is the difference between os.fork() and multiprocessing in Python?\n",
        "\n",
        "  - os.fork() creates a child process that is a copy of the parent process, sharing the same memory space initially (on Unix-like systems). multiprocessing creates independent processes with separate memory spaces. multiprocessing is generally preferred for cross-platform compatibility."
      ],
      "metadata": {
        "id": "5YGTrliBRZqZ"
      }
    },
    {
      "cell_type": "markdown",
      "source": [
        "19. What is the importance of closing a file in Python?\n",
        "\n",
        "  - Closing a file releases the resources held by the file, such as file handles and buffers. It ensures that data is written to the file and prevents data corruption or resource leaks."
      ],
      "metadata": {
        "id": "-xYYi_K6Re4g"
      }
    },
    {
      "cell_type": "markdown",
      "source": [
        "20. What is the difference between file.read() and file.readline() in Python?\n",
        "  - file.read() reads the entire file content as a single string. file.readline() reads a single line from the file, including the newline character."
      ],
      "metadata": {
        "id": "sRsS0exARksB"
      }
    },
    {
      "cell_type": "markdown",
      "source": [
        "21. What is the logging module in Python used for?\n",
        "  - The logging module provides a flexible framework for emitting log messages from Python programs, allowing developers to control the level and destination of log messages."
      ],
      "metadata": {
        "id": "qwaxnL_hRtCX"
      }
    },
    {
      "cell_type": "markdown",
      "source": [
        "22. What is the os module in Python used for in file handling?\n",
        "  - The os module provides functions for interacting with the operating system, including file and directory manipulation (e.g., creating, deleting, renaming files, changing directories)."
      ],
      "metadata": {
        "id": "yAY1gHF5RzZg"
      }
    },
    {
      "cell_type": "markdown",
      "source": [
        "23. What are the challenges associated with memory management in Python?\n",
        "\n",
        "  - Challenges include dealing with circular references, optimizing memory usage for large data structures, and understanding the nuances of the garbage collection process."
      ],
      "metadata": {
        "id": "wWY_sDeIR6F4"
      }
    },
    {
      "cell_type": "markdown",
      "source": [
        "24. How do you raise an exception manually in Python?\n",
        "  - You can raise an exception using the raise keyword, followed by the exception type and an optional message: raise ValueError(\"Invalid input\")."
      ],
      "metadata": {
        "id": "Bsb7w_JuR_TQ"
      }
    },
    {
      "cell_type": "markdown",
      "source": [
        "25. Why is it important to use multithreading in certain applications?\n",
        "  - Multithreading can improve performance in I/O-bound applications by allowing the program to perform other tasks while waiting for I/O operations to complete. It can also enhance responsiveness in GUI applications."
      ],
      "metadata": {
        "id": "2AH9RnSpSFmv"
      }
    },
    {
      "cell_type": "markdown",
      "source": [
        "### **Practical Questions**"
      ],
      "metadata": {
        "id": "W16lymOySQIJ"
      }
    },
    {
      "cell_type": "code",
      "source": [
        "#1. How can you open a file for writing in Python and write a string to it?\n",
        "\n",
        "with open(\"my_file.txt\", \"w\") as f:\n",
        "    print((f.write(\"Hello, world!\")))"
      ],
      "metadata": {
        "colab": {
          "base_uri": "https://localhost:8080/"
        },
        "id": "9rksm9FDSU9b",
        "outputId": "aac6f9bf-1fa3-4519-ef2f-173b64071022"
      },
      "execution_count": 1,
      "outputs": [
        {
          "output_type": "stream",
          "name": "stdout",
          "text": [
            "13\n"
          ]
        }
      ]
    },
    {
      "cell_type": "code",
      "source": [
        "#2. Write a Python program to read the contents of a file and print each line?\n",
        "\n",
        "with open(\"my_file.txt\", \"r\") as f:\n",
        "    for line in f:\n",
        "        print(line, end=\"\")"
      ],
      "metadata": {
        "colab": {
          "base_uri": "https://localhost:8080/"
        },
        "id": "Q0ad5n2nSsTN",
        "outputId": "96ff28fe-9e6b-4ea7-fbf6-16abfccc3fd9"
      },
      "execution_count": 2,
      "outputs": [
        {
          "output_type": "stream",
          "name": "stdout",
          "text": [
            "Hello, world!"
          ]
        }
      ]
    },
    {
      "cell_type": "code",
      "source": [
        "#3. How would you handle a case where the file doesn't exist while trying to open it for reading?\n",
        "\n",
        "try:\n",
        "    with open(\"nonexistent_file.txt\", \"r\") as f:\n",
        "        content = f.read()\n",
        "except FileNotFoundError:\n",
        "    print(\"File not found.\")"
      ],
      "metadata": {
        "colab": {
          "base_uri": "https://localhost:8080/"
        },
        "id": "_lv7FX3lSyud",
        "outputId": "87c9ba07-33b5-4893-cfde-39c18b2cfec7"
      },
      "execution_count": 3,
      "outputs": [
        {
          "output_type": "stream",
          "name": "stdout",
          "text": [
            "File not found.\n"
          ]
        }
      ]
    },
    {
      "cell_type": "code",
      "source": [
        "#4. Write a Python script that reads from one file and writes its content to another file?\n",
        "\n",
        "with open(\"my_file.txt\", \"r\") as source, open(\"destination.txt\", \"w\") as dest:\n",
        "    dest.write(source.read())\n",
        "    with open(\"my_file.txt\", \"r\") as source, open(\"destination.txt\", \"w\") as dest:\n",
        "        print(dest.write(source.read()))\n",
        "\n",
        "    with open(\"destination.txt\", \"r\") as dest:\n",
        "        print(dest.read())"
      ],
      "metadata": {
        "colab": {
          "base_uri": "https://localhost:8080/"
        },
        "id": "WZKibiYhS5qC",
        "outputId": "807149e8-b1df-4663-9c39-ed05a40f2876"
      },
      "execution_count": 4,
      "outputs": [
        {
          "output_type": "stream",
          "name": "stdout",
          "text": [
            "13\n",
            "Hello, world!\n"
          ]
        }
      ]
    },
    {
      "cell_type": "code",
      "source": [
        "#5. How would you catch and handle division by zero error in Python?\n",
        "\n",
        "try:\n",
        "    result = 10 / 0\n",
        "except ZeroDivisionError:\n",
        "    print(\"Cannot divide by zero.\")"
      ],
      "metadata": {
        "colab": {
          "base_uri": "https://localhost:8080/"
        },
        "id": "P3rdl2YTTBWt",
        "outputId": "05fdc6ff-966a-4c1f-9a45-852e68f43519"
      },
      "execution_count": 5,
      "outputs": [
        {
          "output_type": "stream",
          "name": "stdout",
          "text": [
            "Cannot divide by zero.\n"
          ]
        }
      ]
    },
    {
      "cell_type": "code",
      "source": [
        "#6. Write a Python program that logs an error message to a log file when a division by zero exception occurs?\n",
        "\n",
        "import logging\n",
        "logging.basicConfig(filename='app.log', level=logging.DEBUG,\n",
        "                    format='%(asctime)s - %(name)s - %(levelname)s - %(message)s')\n",
        "\n",
        "logging.debug('This is a debug message')\n",
        "logging.info('This is an info message')\n",
        "logging.warning('This is a warning message')\n",
        "logging.error('This is an error message')\n",
        "logging.critical('This is a critical message')"
      ],
      "metadata": {
        "colab": {
          "base_uri": "https://localhost:8080/"
        },
        "id": "umRLml2YTHQl",
        "outputId": "d67a086f-ff10-4228-c789-c8549cd9ef32"
      },
      "execution_count": 6,
      "outputs": [
        {
          "output_type": "stream",
          "name": "stderr",
          "text": [
            "WARNING:root:This is a warning message\n",
            "ERROR:root:This is an error message\n",
            "CRITICAL:root:This is a critical message\n"
          ]
        }
      ]
    },
    {
      "cell_type": "code",
      "source": [
        "#7. How do you log information at different levels (INFO, ERROR, WARNING) in Python using the logging module?\n",
        "\n",
        "import logging\n",
        "logging.warning('Watch out!')\n",
        "logging.info('I told you so')"
      ],
      "metadata": {
        "colab": {
          "base_uri": "https://localhost:8080/"
        },
        "id": "NSLWQqNGTsWO",
        "outputId": "239c58b9-2fe9-4c3b-c511-9106e69637ba"
      },
      "execution_count": 7,
      "outputs": [
        {
          "output_type": "stream",
          "name": "stderr",
          "text": [
            "WARNING:root:Watch out!\n"
          ]
        }
      ]
    },
    {
      "cell_type": "code",
      "source": [
        "#8. Write a program to handle a file opening error using exception handling?\n",
        "\n",
        "try:\n",
        "    with open(\"unknown.txt\", \"r\") as f:\n",
        "        content = f.read()\n",
        "except FileNotFoundError:\n",
        "    print(\"File could not be opened.\")"
      ],
      "metadata": {
        "colab": {
          "base_uri": "https://localhost:8080/"
        },
        "id": "W5AJnHVCT909",
        "outputId": "02194218-0e25-4efd-b19d-5c0ceeccd63f"
      },
      "execution_count": 8,
      "outputs": [
        {
          "output_type": "stream",
          "name": "stdout",
          "text": [
            "File could not be opened.\n"
          ]
        }
      ]
    },
    {
      "cell_type": "code",
      "source": [
        "#9. How can you read a file line by line and store its content in a list in Python?\n",
        "\n",
        "lines = []\n",
        "with open(\"my_file.txt\", \"r\") as f:\n",
        "  with open(\"my_file.txt\", \"r\") as f:\n",
        "    lines = []\n",
        "    for line in f:\n",
        "        lines.append(line.strip())\n",
        "        print(lines)\n",
        "        print(line)"
      ],
      "metadata": {
        "colab": {
          "base_uri": "https://localhost:8080/"
        },
        "id": "NTmOCy3mUEfO",
        "outputId": "7daf3253-228d-4e48-c024-e3ac3f00a246"
      },
      "execution_count": 9,
      "outputs": [
        {
          "output_type": "stream",
          "name": "stdout",
          "text": [
            "['Hello, world!']\n",
            "Hello, world!\n"
          ]
        }
      ]
    },
    {
      "cell_type": "code",
      "source": [
        "#10. How can you append data to an existing file in Python?\n",
        "\n",
        "with open(\"my_file.txt\", \"a\") as f:\n",
        "    f.write(\"New data to append.\")\n",
        "with open(\"my_file.txt\", \"r\") as f:\n",
        "    content=f.read()\n",
        "    print(content)"
      ],
      "metadata": {
        "colab": {
          "base_uri": "https://localhost:8080/"
        },
        "id": "sx3NFRJ9UN77",
        "outputId": "9c3fd507-6de4-46ba-b2d8-f13adaaed888"
      },
      "execution_count": 10,
      "outputs": [
        {
          "output_type": "stream",
          "name": "stdout",
          "text": [
            "Hello, world!New data to append.\n"
          ]
        }
      ]
    },
    {
      "cell_type": "code",
      "source": [
        "#11. Write a Python program that uses a try-except block to handle an error when attempting to access a dictionary key that doesn't exist?\n",
        "\n",
        "my_dict = {\"a\": 1, \"b\": 2}\n",
        "try:\n",
        "    value = my_dict[\"c\"]\n",
        "except KeyError:\n",
        "    print(\"Key not found.\")\n",
        ""
      ],
      "metadata": {
        "colab": {
          "base_uri": "https://localhost:8080/"
        },
        "id": "OL-QVVaSUUAz",
        "outputId": "87a7dcba-dbff-4c83-8d71-a45e251a2b48"
      },
      "execution_count": 11,
      "outputs": [
        {
          "output_type": "stream",
          "name": "stdout",
          "text": [
            "Key not found.\n"
          ]
        }
      ]
    },
    {
      "cell_type": "code",
      "source": [
        "#12. Write a program that demonstrates using multiple except blocks to handle different types of exceptions?\n",
        "\n",
        "try:\n",
        "    value = int(\"abc\")\n",
        "    result = 10 / 0\n",
        "except ValueError:\n",
        "    print(\"Invalid value.\")\n",
        "except ZeroDivisionError:\n",
        "    print(\"Cannot divide by zero.\")"
      ],
      "metadata": {
        "colab": {
          "base_uri": "https://localhost:8080/"
        },
        "id": "AFhGF95vUbJ4",
        "outputId": "c2454bb9-4d5d-4133-81d2-54fbb3524d3a"
      },
      "execution_count": 12,
      "outputs": [
        {
          "output_type": "stream",
          "name": "stdout",
          "text": [
            "Invalid value.\n"
          ]
        }
      ]
    },
    {
      "cell_type": "code",
      "source": [
        "#13. How would you check if a file exists before attempting to read it in Python?\n",
        "\n",
        "import os\n",
        "\n",
        "if os.path.exists(\"my_file.txt\"):\n",
        "    with open(\"my_file.txt\", \"r\") as f:\n",
        "        content = f.read()\n",
        "        print(\"File is exist\")\n",
        "else:\n",
        "    print(\"File does not exist.\")"
      ],
      "metadata": {
        "colab": {
          "base_uri": "https://localhost:8080/"
        },
        "id": "mQy5oo84UjQp",
        "outputId": "ccda3070-981c-4d72-85bf-891f673fd729"
      },
      "execution_count": 13,
      "outputs": [
        {
          "output_type": "stream",
          "name": "stdout",
          "text": [
            "File is exist\n"
          ]
        }
      ]
    },
    {
      "cell_type": "code",
      "source": [
        "#14. Write a program that uses the logging module to log both informational and error messages?\n",
        "\n",
        "import logging\n",
        "logger = logging.getLogger(__name__)\n",
        "logging.basicConfig(filename='example.log', encoding='utf-8', level=logging.DEBUG)\n",
        "logger.debug('This message should go to the log file')\n",
        "logger.info('So should this')\n",
        "logger.warning('And this, too')\n",
        "logger.error('And non-ASCII stuff, too')"
      ],
      "metadata": {
        "colab": {
          "base_uri": "https://localhost:8080/"
        },
        "id": "LTipVz-2UpRR",
        "outputId": "fd0691b3-2c40-463f-9cc4-716636442c41"
      },
      "execution_count": 15,
      "outputs": [
        {
          "output_type": "stream",
          "name": "stderr",
          "text": [
            "WARNING:__main__:And this, too\n",
            "ERROR:__main__:And non-ASCII stuff, too\n"
          ]
        }
      ]
    },
    {
      "cell_type": "code",
      "source": [
        "#15. Write a Python program that prints the content of a file and handles the case when the file is empty?\n",
        "\n",
        "try:\n",
        "    with open(\"my_file.txt\", \"r\") as f:\n",
        "        content = f.read()\n",
        "        if not content:\n",
        "            print(\"File is empty.\")\n",
        "        else:\n",
        "            print(content)\n",
        "except FileNotFoundError:\n",
        "    print(\"File not found.\")\n",
        ""
      ],
      "metadata": {
        "colab": {
          "base_uri": "https://localhost:8080/"
        },
        "id": "ji6Lod5GU7Te",
        "outputId": "c120025e-d2d3-4bb4-ee36-a2a82d99d68d"
      },
      "execution_count": 16,
      "outputs": [
        {
          "output_type": "stream",
          "name": "stdout",
          "text": [
            "Hello, world!New data to append.\n"
          ]
        }
      ]
    },
    {
      "cell_type": "code",
      "source": [
        "#16. Demonstrate how to use memory profiling to check the memory usage of a small program?\n",
        "\n",
        "from memory_profiler import profile\n",
        "@profile\n",
        "\n",
        "def allocate_memory():\n",
        "    a = [i for i in range(10000)]\n",
        "    b = [i ** 2 for i in range(10000)]\n",
        "    return a, b\n",
        "\n",
        "if __name__ == \"__main__\":\n",
        "    allocate_memory()\n"
      ],
      "metadata": {
        "colab": {
          "base_uri": "https://localhost:8080/",
          "height": 384
        },
        "collapsed": true,
        "id": "MC-O2LjzVEq7",
        "outputId": "eed16b40-5030-4c10-b947-821669fda674"
      },
      "execution_count": 20,
      "outputs": [
        {
          "output_type": "error",
          "ename": "ModuleNotFoundError",
          "evalue": "No module named 'memory_profiler'",
          "traceback": [
            "\u001b[0;31m---------------------------------------------------------------------------\u001b[0m",
            "\u001b[0;31mModuleNotFoundError\u001b[0m                       Traceback (most recent call last)",
            "\u001b[0;32m<ipython-input-20-cb9700553ca2>\u001b[0m in \u001b[0;36m<cell line: 0>\u001b[0;34m()\u001b[0m\n\u001b[1;32m      1\u001b[0m \u001b[0;31m#16. Demonstrate how to use memory profiling to check the memory usage of a small program?\u001b[0m\u001b[0;34m\u001b[0m\u001b[0;34m\u001b[0m\u001b[0m\n\u001b[1;32m      2\u001b[0m \u001b[0;34m\u001b[0m\u001b[0m\n\u001b[0;32m----> 3\u001b[0;31m \u001b[0;32mfrom\u001b[0m \u001b[0mmemory_profiler\u001b[0m \u001b[0;32mimport\u001b[0m \u001b[0mprofile\u001b[0m\u001b[0;34m\u001b[0m\u001b[0;34m\u001b[0m\u001b[0m\n\u001b[0m\u001b[1;32m      4\u001b[0m \u001b[0;34m@\u001b[0m\u001b[0mprofile\u001b[0m\u001b[0;34m\u001b[0m\u001b[0;34m\u001b[0m\u001b[0m\n\u001b[1;32m      5\u001b[0m \u001b[0;34m\u001b[0m\u001b[0m\n",
            "\u001b[0;31mModuleNotFoundError\u001b[0m: No module named 'memory_profiler'",
            "",
            "\u001b[0;31m---------------------------------------------------------------------------\u001b[0;32m\nNOTE: If your import is failing due to a missing package, you can\nmanually install dependencies using either !pip or !apt.\n\nTo view examples of installing some common dependencies, click the\n\"Open Examples\" button below.\n\u001b[0;31m---------------------------------------------------------------------------\u001b[0m\n"
          ],
          "errorDetails": {
            "actions": [
              {
                "action": "open_url",
                "actionText": "Open Examples",
                "url": "/notebooks/snippets/importing_libraries.ipynb"
              }
            ]
          }
        }
      ]
    },
    {
      "cell_type": "code",
      "source": [
        "#17. Write a Python program to create and write a list of numbers to a file, one number per line?\n",
        "\n",
        "numbers = [1, 2, 3, 4, 5]\n",
        "with open(\"numbers.txt\", \"w\") as f:\n",
        "    for num in numbers:\n",
        "        f.write(str(num) + \"\\n\")\n",
        "with open(\"numbers.txt\", \"r\") as f:\n",
        "   print(f.read())"
      ],
      "metadata": {
        "colab": {
          "base_uri": "https://localhost:8080/"
        },
        "id": "pxBd-4-oVkEo",
        "outputId": "ca667814-7b4c-483b-a51b-e4eeb4f69365"
      },
      "execution_count": 21,
      "outputs": [
        {
          "output_type": "stream",
          "name": "stdout",
          "text": [
            "1\n",
            "2\n",
            "3\n",
            "4\n",
            "5\n",
            "\n"
          ]
        }
      ]
    },
    {
      "cell_type": "code",
      "source": [
        "#18. How would you implement a basic logging setup that logs to a file with rotation after 1MB?\n",
        "\n",
        "import logging\n",
        "from logging.handlers import RotatingFileHandler\n",
        "\n",
        "logging.basicConfig(level=logging.INFO)\n",
        "\n",
        "handler = RotatingFileHandler('app.log', maxBytes=1024*1024, backupCount=5)\n",
        "logging.getLogger('').addHandler(handler)\n",
        "\n",
        "logging.info(\"This is a log message.\")\n",
        "print(logging.info)"
      ],
      "metadata": {
        "colab": {
          "base_uri": "https://localhost:8080/"
        },
        "id": "XZHUfgIdVuAA",
        "outputId": "800fa0ff-5913-488a-c2d4-c75c1c1e201f"
      },
      "execution_count": 22,
      "outputs": [
        {
          "output_type": "stream",
          "name": "stdout",
          "text": [
            "<function info at 0x7fbd8df20860>\n"
          ]
        }
      ]
    },
    {
      "cell_type": "code",
      "source": [
        "#19. Write a program that handles both IndexError and KeyError using a try-except block?\n",
        "\n",
        "my_list = [1, 2, 3]\n",
        "my_dict = {\"a\": 1, \"b\": 2}\n",
        "try:\n",
        "    value1 = my_list[5]\n",
        "    value2 = my_dict[\"c\"]\n",
        "except IndexError:\n",
        "    print(\"Index out of range.\")\n",
        "except KeyError:\n",
        "    print(\"Key not found.\")"
      ],
      "metadata": {
        "colab": {
          "base_uri": "https://localhost:8080/"
        },
        "id": "5PqGnEKLV1vC",
        "outputId": "f77ee71c-b4d0-4228-8916-2cf6e5dff065"
      },
      "execution_count": 23,
      "outputs": [
        {
          "output_type": "stream",
          "name": "stdout",
          "text": [
            "Index out of range.\n"
          ]
        }
      ]
    },
    {
      "cell_type": "code",
      "source": [
        "#20. How would you open a file and read its contents using a context manager in Python?\n",
        "\n",
        "with open(\"my_file.txt\", \"r\") as f:\n",
        "    content = f.read()\n",
        "    print(content)\n",
        ""
      ],
      "metadata": {
        "colab": {
          "base_uri": "https://localhost:8080/"
        },
        "id": "j6ld13nmV90v",
        "outputId": "0c270f7e-aa28-4fbb-c386-9fea25eab116"
      },
      "execution_count": 24,
      "outputs": [
        {
          "output_type": "stream",
          "name": "stdout",
          "text": [
            "Hello, world!New data to append.\n"
          ]
        }
      ]
    },
    {
      "cell_type": "code",
      "source": [
        "#21. Write a Python program that reads a file and prints the number of occurrences of a specific word?\n",
        "\n",
        "word = \"example\"\n",
        "count = 0\n",
        "with open(\"my_file.txt\", \"r\") as f:\n",
        "    for line in f:\n",
        "        count += line.lower().split().count(word.lower())\n",
        "print(f\"The word '{word}' appears {count} times.\")"
      ],
      "metadata": {
        "colab": {
          "base_uri": "https://localhost:8080/"
        },
        "id": "G3PukmWzWGlZ",
        "outputId": "6e4bdce7-b834-48e1-d09e-295a473945c9"
      },
      "execution_count": 25,
      "outputs": [
        {
          "output_type": "stream",
          "name": "stdout",
          "text": [
            "The word 'example' appears 0 times.\n"
          ]
        }
      ]
    },
    {
      "cell_type": "code",
      "source": [
        "#22. How can you check if a file is empty before attempting to read its contents?\n",
        "\n",
        "import os\n",
        "\n",
        "if os.stat(\"my_file.txt\").st_size == 0:\n",
        "    print(\"File is empty.\")\n",
        "else:\n",
        "    with open(\"my_file.txt\", \"r\") as f:\n",
        "        content = f.read()\n",
        "        print(content)"
      ],
      "metadata": {
        "colab": {
          "base_uri": "https://localhost:8080/"
        },
        "id": "RVHYFErYWNjS",
        "outputId": "6180e943-b974-4f7f-c7ca-72dcf6f62acc"
      },
      "execution_count": 26,
      "outputs": [
        {
          "output_type": "stream",
          "name": "stdout",
          "text": [
            "Hello, world!New data to append.\n"
          ]
        }
      ]
    },
    {
      "cell_type": "code",
      "source": [
        "#23. Write a Python program that writes to a log file when an error occurs during file handling?\n",
        "\n",
        "import logging\n",
        "\n",
        "logging.basicConfig(filename='file_errors.log', level=logging.ERROR)\n",
        "\n",
        "try:\n",
        "    with open(\"nonexistent_file.txt\", \"r\") as f:\n",
        "        content = f.read()\n",
        "except FileNotFoundError:\n",
        "    logging.error(\"File not found.\")"
      ],
      "metadata": {
        "colab": {
          "base_uri": "https://localhost:8080/"
        },
        "id": "fkJkrBU7WTGj",
        "outputId": "253f1db4-edb7-47d8-94d3-dd0541786212"
      },
      "execution_count": 28,
      "outputs": [
        {
          "output_type": "stream",
          "name": "stderr",
          "text": [
            "ERROR:root:File not found.\n"
          ]
        }
      ]
    }
  ]
}