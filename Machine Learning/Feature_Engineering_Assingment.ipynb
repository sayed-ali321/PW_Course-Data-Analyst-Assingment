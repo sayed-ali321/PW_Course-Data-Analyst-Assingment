{
  "nbformat": 4,
  "nbformat_minor": 0,
  "metadata": {
    "colab": {
      "provenance": []
    },
    "kernelspec": {
      "name": "python3",
      "display_name": "Python 3"
    },
    "language_info": {
      "name": "python"
    }
  },
  "cells": [
    {
      "cell_type": "markdown",
      "source": [
        "### **Theory  Question's**"
      ],
      "metadata": {
        "id": "8mTxsPHS6nBN"
      }
    },
    {
      "cell_type": "markdown",
      "source": [
        "1. What is a parameter?\n",
        "  - A parameter is a value the model learns during training, like weights in a linear regression."
      ],
      "metadata": {
        "id": "CSZIKErA6tcc"
      }
    },
    {
      "cell_type": "markdown",
      "source": [
        "2. What is correlation?\n",
        "  - Correlation shows how two variables are related — whether they increase or decrease together."
      ],
      "metadata": {
        "id": "BLu9_FkJ65CB"
      }
    },
    {
      "cell_type": "markdown",
      "source": [
        "3. What does negative correlation mean?\n",
        "  - It means that as one variable increases, the other decreases."
      ],
      "metadata": {
        "id": "1vNPtlXX6_rU"
      }
    },
    {
      "cell_type": "markdown",
      "source": [
        "4. Define Machine Learning. What are the main components in Machine Learning?\n",
        "  - Machine Learning is when computers learn from data to make predictions. Key components: data, model, algorithm, and evaluation."
      ],
      "metadata": {
        "id": "PbDRGNV47Fop"
      }
    },
    {
      "cell_type": "markdown",
      "source": [
        "5. How does loss value help in determining whether the model is good or not?\n",
        "  - Loss shows prediction error. Lower loss means a better model."
      ],
      "metadata": {
        "id": "7iv9Ku487Lo0"
      }
    },
    {
      "cell_type": "markdown",
      "source": [
        "6. What are continuous and categorical variables?\n",
        "  - Continuous: numeric values (e.g., income). Categorical: group values (e.g., color, gender)."
      ],
      "metadata": {
        "id": "tdIJL_f67SIQ"
      }
    },
    {
      "cell_type": "markdown",
      "source": [
        "7. How do we handle categorical variables in Machine Learning? What are the common techniques?\n",
        "  - We convert them to numbers using techniques like One-Hot Encoding or Label Encoding."
      ],
      "metadata": {
        "id": "Yx1xeIym7Xsi"
      }
    },
    {
      "cell_type": "markdown",
      "source": [
        "8. What do you mean by training and testing a dataset?\n",
        "  - Training data teaches the model. Testing data checks how well it learned."
      ],
      "metadata": {
        "id": "QWGL6ly67eFg"
      }
    },
    {
      "cell_type": "markdown",
      "source": [
        "9. What is sklearn.preprocessing?\n",
        "  - A module in scikit-learn for data preparation like scaling and encoding."
      ],
      "metadata": {
        "id": "c8aF5zuR7jFG"
      }
    },
    {
      "cell_type": "markdown",
      "source": [
        "10. What is a Test set?\n",
        "  - A separate dataset used to check model performance after training."
      ],
      "metadata": {
        "id": "l3cp3o2d7ooL"
      }
    },
    {
      "cell_type": "markdown",
      "source": [
        "11. How do we split data for model fitting (training and testing) in Python?\n",
        "  - Use train_test_split() from sklearn.model_selection."
      ],
      "metadata": {
        "id": "ezmKdbxW7u9K"
      }
    },
    {
      "cell_type": "markdown",
      "source": [
        "12. How do you approach a Machine Learning problem?\n",
        "  - Understand problem → Collect data → Clean & explore data → Choose model → Train → Evaluate → Improve."
      ],
      "metadata": {
        "id": "HUCDvIIK7zlH"
      }
    },
    {
      "cell_type": "markdown",
      "source": [
        "13. Why do we have to perform EDA before fitting a model to the data?\n",
        "  - EDA helps us understand the data, spot patterns, and handle missing or incorrect values."
      ],
      "metadata": {
        "id": "2O901rVw79vD"
      }
    },
    {
      "cell_type": "markdown",
      "source": [
        "14. What is correlation?\n",
        "  - It shows how two variables are related.\n",
        "  "
      ],
      "metadata": {
        "id": "clsG0pmi8EKE"
      }
    },
    {
      "cell_type": "markdown",
      "source": [
        "15. What does negative correlation mean?\n",
        "  - One variable increases while the other decreases."
      ],
      "metadata": {
        "id": "epaoisVj8KD-"
      }
    },
    {
      "cell_type": "markdown",
      "source": [
        "16. How can you find correlation between variables in Python?\n",
        "  - Use df.corr() in pandas or seaborn.heatmap(df.corr()) for visuals."
      ],
      "metadata": {
        "id": "qsfqNbbE8RYQ"
      }
    },
    {
      "cell_type": "markdown",
      "source": [
        "17. What is causation? Explain difference between correlation and causation with an example.\n",
        "  - Causation means one variable causes another to change. Example: Studying causes better grades (causation), while ice cream sales and drowning have correlation, not causation."
      ],
      "metadata": {
        "id": "b5gl8QTb8XAO"
      }
    },
    {
      "cell_type": "markdown",
      "source": [
        "18. What is an Optimizer? What are different types of optimizers? Explain each with an example.\n",
        "  - Optimizers adjust model parameters to reduce error. Examples:\n",
        "\n",
        "SGD: updates with each sample.\n",
        "\n",
        "Adam: adapts learning rate and combines momentum."
      ],
      "metadata": {
        "id": "7kfoWBkZ8czJ"
      }
    },
    {
      "cell_type": "markdown",
      "source": [
        "19. What is sklearn.linear_model ?\n",
        "  - A module for linear models like Linear and Logistic Regression."
      ],
      "metadata": {
        "id": "7f5-RylS8klW"
      }
    },
    {
      "cell_type": "markdown",
      "source": [
        "20. What does model.fit() do? What arguments must be given?\n",
        "  - It trains the model. You need input features (X) and target labels (y)."
      ],
      "metadata": {
        "id": "su4v1UpC8rFg"
      }
    },
    {
      "cell_type": "markdown",
      "source": [
        "21. What does model.predict() do? What arguments must be given?\n",
        "  - It makes predictions. You give it new input data (X)."
      ],
      "metadata": {
        "id": "yvV_y9pQ8ySg"
      }
    },
    {
      "cell_type": "markdown",
      "source": [
        "22. What are continuous and categorical variables?\n",
        "  - Continuous: measurable (e.g., height). Categorical: labels or categories (e.g., city)."
      ],
      "metadata": {
        "id": "GCSB6WwN8uVh"
      }
    },
    {
      "cell_type": "markdown",
      "source": [
        "23. What is feature scaling? How does it help in Machine Learning?\n",
        "  - It adjusts feature values to the same range. Helps models converge faster and improve accuracy."
      ],
      "metadata": {
        "id": "BncjPeG28_X5"
      }
    },
    {
      "cell_type": "markdown",
      "source": [
        "24. How do we perform scaling in Python?\n",
        "  - Use StandardScaler() or MinMaxScaler() from sklearn.preprocessing.\n",
        "    "
      ],
      "metadata": {
        "id": "JCijn1IU9FOL"
      }
    },
    {
      "cell_type": "markdown",
      "source": [
        "25. What is sklearn.preprocessing?\n",
        "  - It’s a module for transforming data — scaling, encoding, normalization."
      ],
      "metadata": {
        "id": "K0gPsIRm9Ljb"
      }
    },
    {
      "cell_type": "markdown",
      "source": [
        "26. How do we split data for model fitting (training and testing) in Python?\n",
        "    - Use train_test_split(X, y, test_size=0.2) from sklearn.model_selection."
      ],
      "metadata": {
        "id": "AeuITI9I9RNh"
      }
    },
    {
      "cell_type": "markdown",
      "source": [
        "27. Explain data encoding?\n",
        "  - Data encoding converts categorical variables into numeric form, using methods like Label Encoding or One-Hot Encoding."
      ],
      "metadata": {
        "id": "ObzHmcmi9WoM"
      }
    }
  ]
}